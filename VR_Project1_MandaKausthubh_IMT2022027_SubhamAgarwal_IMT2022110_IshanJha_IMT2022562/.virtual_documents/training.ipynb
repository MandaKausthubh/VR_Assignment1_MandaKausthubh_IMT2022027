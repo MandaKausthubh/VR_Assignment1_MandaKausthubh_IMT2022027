import torch
import numpy as np
from utils.CustomDataset import CustomDataset
from utils.Training import Train
from models import PlainCNN


device = "cpu"

if torch.



